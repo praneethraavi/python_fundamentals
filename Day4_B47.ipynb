{
 "cells": [
  {
   "cell_type": "code",
   "execution_count": null,
   "metadata": {},
   "outputs": [],
   "source": [
    "# Day4 Practice file"
   ]
  },
  {
   "cell_type": "code",
   "execution_count": null,
   "metadata": {},
   "outputs": [],
   "source": [
    "#Intoduction to lists"
   ]
  },
  {
   "cell_type": "code",
   "execution_count": 1,
   "metadata": {},
   "outputs": [],
   "source": [
    "company =['L&T','JCB','Tata Hitachi']"
   ]
  },
  {
   "cell_type": "code",
   "execution_count": 10,
   "metadata": {},
   "outputs": [
    {
     "data": {
      "text/plain": [
       "list"
      ]
     },
     "execution_count": 10,
     "metadata": {},
     "output_type": "execute_result"
    }
   ],
   "source": [
    "type(company)"
   ]
  },
  {
   "cell_type": "code",
   "execution_count": null,
   "metadata": {},
   "outputs": [],
   "source": [
    "company =['L&T','JCB','Tata Hitachi']    # append "
   ]
  },
  {
   "cell_type": "code",
   "execution_count": 11,
   "metadata": {},
   "outputs": [
    {
     "name": "stdout",
     "output_type": "stream",
     "text": [
      "['L&T', 'JCB', 'Tata Hitachi']\n"
     ]
    }
   ],
   "source": [
    "print(company)"
   ]
  },
  {
   "cell_type": "code",
   "execution_count": 12,
   "metadata": {},
   "outputs": [
    {
     "name": "stdout",
     "output_type": "stream",
     "text": [
      "['L&T', 'JCB', 'Tata Hitachi', 'BHEL']\n"
     ]
    }
   ],
   "source": [
    "company.append('BHEL')\n",
    "print(company)"
   ]
  },
  {
   "cell_type": "code",
   "execution_count": 14,
   "metadata": {},
   "outputs": [
    {
     "name": "stdout",
     "output_type": "stream",
     "text": [
      "['L&T', 'JCB', 'Tata Hitachi', 'BHEL', 'BEML', 'BEML', 'Exxonmobil']\n"
     ]
    }
   ],
   "source": [
    "company.append('BEML')\n",
    "company.append('Exxonmobil')\n",
    "print(company)"
   ]
  },
  {
   "cell_type": "code",
   "execution_count": 15,
   "metadata": {},
   "outputs": [
    {
     "name": "stdout",
     "output_type": "stream",
     "text": [
      "BHEL\n"
     ]
    }
   ],
   "source": [
    "print(company[3])       # indexing"
   ]
  },
  {
   "cell_type": "code",
   "execution_count": 16,
   "metadata": {},
   "outputs": [
    {
     "name": "stdout",
     "output_type": "stream",
     "text": [
      "BEML\n"
     ]
    }
   ],
   "source": [
    "print(company[5])"
   ]
  },
  {
   "cell_type": "code",
   "execution_count": 17,
   "metadata": {},
   "outputs": [],
   "source": [
    "company.insert(3,'BMW')  # insert"
   ]
  },
  {
   "cell_type": "code",
   "execution_count": 18,
   "metadata": {},
   "outputs": [
    {
     "name": "stdout",
     "output_type": "stream",
     "text": [
      "['L&T', 'JCB', 'Tata Hitachi', 'BMW', 'BHEL', 'BEML', 'BEML', 'Exxonmobil']\n"
     ]
    }
   ],
   "source": [
    "print(company)"
   ]
  },
  {
   "cell_type": "code",
   "execution_count": 19,
   "metadata": {},
   "outputs": [],
   "source": [
    "company.insert(0,'Ashok Leyland')"
   ]
  },
  {
   "cell_type": "code",
   "execution_count": 20,
   "metadata": {},
   "outputs": [
    {
     "name": "stdout",
     "output_type": "stream",
     "text": [
      "['Ashok Leyland', 'L&T', 'JCB', 'Tata Hitachi', 'BMW', 'BHEL', 'BEML', 'BEML', 'Exxonmobil']\n"
     ]
    }
   ],
   "source": [
    "print(company)"
   ]
  },
  {
   "cell_type": "code",
   "execution_count": 21,
   "metadata": {},
   "outputs": [
    {
     "name": "stdout",
     "output_type": "stream",
     "text": [
      "['Mahindra', 'L&T', 'JCB', 'Tata Hitachi', 'BMW', 'BHEL', 'BEML', 'BEML', 'Exxonmobil']\n"
     ]
    }
   ],
   "source": [
    "company[0]= 'Mahindra'   # modify\n",
    "print(company)"
   ]
  },
  {
   "cell_type": "code",
   "execution_count": 22,
   "metadata": {},
   "outputs": [
    {
     "name": "stdout",
     "output_type": "stream",
     "text": [
      "['Mahindra', 'L&T', 'ECIL', 'GAIL', 'BMW', 'BHEL', 'BEML', 'BEML', 'Exxonmobil']\n"
     ]
    }
   ],
   "source": [
    "company[2] = 'ECIL'\n",
    "company[3] = 'GAIL'\n",
    "print(company)"
   ]
  },
  {
   "cell_type": "code",
   "execution_count": 23,
   "metadata": {},
   "outputs": [
    {
     "name": "stdout",
     "output_type": "stream",
     "text": [
      "['Mahindra', 'L&T', 'ECIL', 'GAIL', 'BMW', 'BHEL', 'BEML', 'Exxonmobil']\n"
     ]
    }
   ],
   "source": [
    "del company[6]    # del\n",
    "print(company)"
   ]
  },
  {
   "cell_type": "code",
   "execution_count": 24,
   "metadata": {},
   "outputs": [
    {
     "name": "stdout",
     "output_type": "stream",
     "text": [
      "['Mahindra', 'L&T', 'ECIL', 'GAIL', 'BMW', 'BHEL', 'BEML']\n"
     ]
    }
   ],
   "source": [
    "x = company.pop()   # delete using pop method\n",
    "print(company)"
   ]
  },
  {
   "cell_type": "code",
   "execution_count": 25,
   "metadata": {},
   "outputs": [
    {
     "name": "stdout",
     "output_type": "stream",
     "text": [
      "Exxonmobil\n"
     ]
    }
   ],
   "source": [
    "print(x)"
   ]
  },
  {
   "cell_type": "code",
   "execution_count": null,
   "metadata": {},
   "outputs": [],
   "source": []
  }
 ],
 "metadata": {
  "kernelspec": {
   "display_name": "Python 3",
   "language": "python",
   "name": "python3"
  },
  "language_info": {
   "codemirror_mode": {
    "name": "ipython",
    "version": 3
   },
   "file_extension": ".py",
   "mimetype": "text/x-python",
   "name": "python",
   "nbconvert_exporter": "python",
   "pygments_lexer": "ipython3",
   "version": "3.7.6"
  }
 },
 "nbformat": 4,
 "nbformat_minor": 4
}
