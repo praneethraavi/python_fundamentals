{
 "cells": [
  {
   "cell_type": "code",
   "execution_count": null,
   "metadata": {},
   "outputs": [],
   "source": [
    "# Day 3 Practice"
   ]
  },
  {
   "cell_type": "code",
   "execution_count": 2,
   "metadata": {},
   "outputs": [
    {
     "name": "stdout",
     "output_type": "stream",
     "text": [
      "praneeth\n"
     ]
    }
   ],
   "source": [
    "name = 'praneeth'\n",
    "print(name)"
   ]
  },
  {
   "cell_type": "code",
   "execution_count": 3,
   "metadata": {},
   "outputs": [
    {
     "name": "stdout",
     "output_type": "stream",
     "text": [
      "Praneeth\n"
     ]
    }
   ],
   "source": [
    "# convert first letter to caps\n",
    "final_name = name.title()\n",
    "print(final_name)"
   ]
  },
  {
   "cell_type": "code",
   "execution_count": 4,
   "metadata": {},
   "outputs": [
    {
     "name": "stdout",
     "output_type": "stream",
     "text": [
      "PRANEETH\n"
     ]
    }
   ],
   "source": [
    "# Convert all letters to upper case\n",
    "name = 'praneeth'\n",
    "final_name = name.upper()\n",
    "print(final_name)"
   ]
  },
  {
   "cell_type": "code",
   "execution_count": 5,
   "metadata": {},
   "outputs": [
    {
     "name": "stdout",
     "output_type": "stream",
     "text": [
      "praneeth\n"
     ]
    }
   ],
   "source": [
    "# Convert all letters to lower case\n",
    "name = 'PRANEETH'\n",
    "final_name = name.lower()\n",
    "print(final_name)"
   ]
  },
  {
   "cell_type": "code",
   "execution_count": null,
   "metadata": {},
   "outputs": [],
   "source": [
    "# f strings"
   ]
  },
  {
   "cell_type": "code",
   "execution_count": 7,
   "metadata": {},
   "outputs": [
    {
     "name": "stdout",
     "output_type": "stream",
     "text": [
      "I love Mercedes Benz\n"
     ]
    }
   ],
   "source": [
    "Car1 = 'Mercedes'\n",
    "Car2= 'Benz'\n",
    "print(f\"I love {Car1} {Car2}\")"
   ]
  },
  {
   "cell_type": "code",
   "execution_count": null,
   "metadata": {},
   "outputs": [],
   "source": [
    "# adding white spaces"
   ]
  },
  {
   "cell_type": "code",
   "execution_count": 8,
   "metadata": {},
   "outputs": [
    {
     "name": "stdout",
     "output_type": "stream",
     "text": [
      " My hobbies :RunningReadingbooksgoingtogym\n"
     ]
    }
   ],
   "source": [
    "print(\" My hobbies :RunningReadingbooksgoingtogym\")"
   ]
  },
  {
   "cell_type": "code",
   "execution_count": 10,
   "metadata": {},
   "outputs": [
    {
     "name": "stdout",
     "output_type": "stream",
     "text": [
      "My hobbies :\n",
      "Running\n",
      "Reading books\n",
      "going to gym\n"
     ]
    }
   ],
   "source": [
    "print(\"My hobbies :\\nRunning\\nReading books\\ngoing to gym\")     # new line delimiter "
   ]
  },
  {
   "cell_type": "code",
   "execution_count": 11,
   "metadata": {},
   "outputs": [
    {
     "name": "stdout",
     "output_type": "stream",
     "text": [
      "My hobbies :\n",
      "\tRunning\n",
      "\tReading books\n",
      "\tgoing to gym\n"
     ]
    }
   ],
   "source": [
    "print(\"My hobbies :\\n\\tRunning\\n\\tReading books\\n\\tgoing to gym\")  # tab d"
   ]
  },
  {
   "cell_type": "code",
   "execution_count": null,
   "metadata": {},
   "outputs": [],
   "source": []
  }
 ],
 "metadata": {
  "kernelspec": {
   "display_name": "Python 3",
   "language": "python",
   "name": "python3"
  },
  "language_info": {
   "codemirror_mode": {
    "name": "ipython",
    "version": 3
   },
   "file_extension": ".py",
   "mimetype": "text/x-python",
   "name": "python",
   "nbconvert_exporter": "python",
   "pygments_lexer": "ipython3",
   "version": "3.7.6"
  }
 },
 "nbformat": 4,
 "nbformat_minor": 4
}
