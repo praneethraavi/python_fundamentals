{
 "cells": [
  {
   "cell_type": "code",
   "execution_count": 1,
   "id": "27f283ae",
   "metadata": {},
   "outputs": [],
   "source": [
    "# prime numbere check"
   ]
  },
  {
   "cell_type": "code",
   "execution_count": 3,
   "id": "9f21e6dd",
   "metadata": {
    "scrolled": true
   },
   "outputs": [
    {
     "name": "stdout",
     "output_type": "stream",
     "text": [
      "Enter a number : 10\n",
      "10 is divisible by 2\n",
      "10 is divisible by 5\n",
      "10 is NOT a prime number\n"
     ]
    }
   ],
   "source": [
    "n = int(input(\"Enter a number : \"))\n",
    "isDivisible = False;\n",
    "i = 2 \n",
    "while i < n :\n",
    "    if n % i == 0 :\n",
    "        isDivisible = True;\n",
    "        print(\"{} is divisible by {}\".format(n , i))\n",
    "    i = i+1;\n",
    "if isDivisible :\n",
    "    print(\"{} is NOT a prime number\".format(n))\n",
    "else :\n",
    "    print(\"{} is a prime number\".format(n))"
   ]
  },
  {
   "cell_type": "code",
   "execution_count": null,
   "id": "0784ed9c",
   "metadata": {},
   "outputs": [],
   "source": []
  }
 ],
 "metadata": {
  "kernelspec": {
   "display_name": "Python 3",
   "language": "python",
   "name": "python3"
  },
  "language_info": {
   "codemirror_mode": {
    "name": "ipython",
    "version": 3
   },
   "file_extension": ".py",
   "mimetype": "text/x-python",
   "name": "python",
   "nbconvert_exporter": "python",
   "pygments_lexer": "ipython3",
   "version": "3.8.8"
  }
 },
 "nbformat": 4,
 "nbformat_minor": 5
}
